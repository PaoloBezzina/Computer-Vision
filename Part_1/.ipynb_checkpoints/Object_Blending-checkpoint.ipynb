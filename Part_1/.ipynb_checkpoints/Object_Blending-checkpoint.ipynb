{
 "cells": [
  {
   "cell_type": "code",
   "execution_count": 25,
   "id": "ca61fc21-9452-483d-aa48-18ff5d0d70f5",
   "metadata": {},
   "outputs": [],
   "source": [
    "import cv2\n",
    "import math\n",
    "import numpy as np\n",
    "\n",
    "from skimage.metrics import structural_similarity as ssim\n",
    "from skimage.metrics import mean_squared_error as mse"
   ]
  },
  {
   "cell_type": "markdown",
   "id": "bfa3fb8b-8fa2-4efe-ada6-dc718c097ace",
   "metadata": {},
   "source": [
    "## Auxiliary Functions"
   ]
  },
  {
   "cell_type": "code",
   "execution_count": 2,
   "id": "ca2a7a99-be88-4f64-8d74-ae59ea5b1383",
   "metadata": {},
   "outputs": [],
   "source": [
    "def showImage(image, name):\n",
    "    cv2.imshow(name, image)\n",
    "    cv2.waitKey(0)\n",
    "    cv2.destroyAllWindows()"
   ]
  },
  {
   "cell_type": "code",
   "execution_count": 3,
   "id": "5b01ace5-7af7-4137-9318-52c31bf8135f",
   "metadata": {},
   "outputs": [],
   "source": [
    "def threshold(pixel, threshold = 0):\n",
    "    if np.any(pixel != threshold):\n",
    "        return True\n",
    "    else:\n",
    "        return False"
   ]
  },
  {
   "cell_type": "markdown",
   "id": "fc9db32d-e042-4780-944e-385ea9671865",
   "metadata": {},
   "source": [
    "Convolution Filters"
   ]
  },
  {
   "cell_type": "code",
   "execution_count": 4,
   "id": "391e40e7-8b55-4bb2-a916-873436869071",
   "metadata": {},
   "outputs": [],
   "source": [
    "sobelX = np.array((\n",
    "    [-1, 0, 1],\n",
    "    [-2, 0, 2],\n",
    "    [-1, 0, 1]), dtype=\"int\")\n",
    "sobelX = sobelX*(1/8)\n",
    "\n",
    "sobelY = np.array((\n",
    "    [-1, -2, -1],\n",
    "    [0, 0, 0],\n",
    "    [1, 2, 1]), dtype=\"int\")\n",
    "sobelY = sobelY*(1/8)\n",
    "\n",
    "sobelXY = \"sobelXY\"\n",
    "\n",
    "bilinear = np.array((\n",
    "    [1, 2, 1],\n",
    "    [2, 4, 2],\n",
    "    [1, 2, 1]), dtype=\"int\")\n",
    "bilinear = bilinear*(1/16)\n",
    "\n",
    "gaussian = np.array((\n",
    "    [1,4,6,4,1],\n",
    "    [4,16,24,16,4],\n",
    "    [6,24,36,24,6],\n",
    "    [4,16,24,16,4],\n",
    "    [1,4,6,4,1]), dtype=\"int\")\n",
    "gaussian = gaussian*(1/256)"
   ]
  },
  {
   "cell_type": "code",
   "execution_count": 5,
   "id": "63ad7ddd-448b-452f-aa8c-9e68d2a44454",
   "metadata": {},
   "outputs": [],
   "source": [
    "def convolRoi(roi, kernel):\n",
    "    \n",
    "    if \"sobelXY\" in kernel:\n",
    "        convolved = convolRoiXY(roi, kernel)\n",
    "    else:\n",
    "        convolved = cv2.filter2D(roi, -1, kernel)\n",
    "    \n",
    "    return convolved"
   ]
  },
  {
   "cell_type": "code",
   "execution_count": 6,
   "id": "b959c862-f9a9-4b1b-bcb0-d80be8762706",
   "metadata": {},
   "outputs": [],
   "source": [
    "def convolRoiXY(roi, kernel):\n",
    "    \n",
    "    convX = convolRoi(roi, sobelX)\n",
    "    convY = convolRoi(roi, sobelY)\n",
    "    convolved = np.add(np.absolute(convX),np.absolute(convY))\n",
    "    \n",
    "    return convolved"
   ]
  },
  {
   "cell_type": "markdown",
   "id": "e2e5bb90-fa5a-4237-8e3f-96e00008f5bb",
   "metadata": {},
   "source": [
    "## Functions"
   ]
  },
  {
   "cell_type": "code",
   "execution_count": 7,
   "id": "badd1871-3e22-4943-9ea3-a1221d4b38f4",
   "metadata": {},
   "outputs": [],
   "source": [
    "def ExtractObject(S2, ObjectMask):\n",
    "    \n",
    "    height, width, channel = S2.shape\n",
    "    ExtractedObject = np.zeros((height,width,3), np.uint8)\n",
    "    \n",
    "    for i, row in enumerate(ObjectMask):\n",
    "        for j, p in enumerate(row):\n",
    "            if threshold(p):\n",
    "                ExtractedObject[i,j] = S2[i,j]\n",
    "    \n",
    "    return ExtractedObject"
   ]
  },
  {
   "cell_type": "code",
   "execution_count": 8,
   "id": "cbf10b78-68fc-41d7-9ab0-8cd66fa4b4f1",
   "metadata": {},
   "outputs": [],
   "source": [
    "def ApplyFilter(ExtractedObject, FilterIndex):\n",
    "    \n",
    "    if FilterIndex == 1:\n",
    "        FilteredObject = convolRoi(ExtractedObject, sobelXY)\n",
    "        pass\n",
    "    elif FilterIndex == 2:\n",
    "        FilteredObject = convolRoi(ExtractedObject, bilinear)\n",
    "        pass\n",
    "    elif FilterIndex == 3:\n",
    "        FilteredObject = convolRoi(ExtractedObject, gaussian)\n",
    "        pass\n",
    "    else:\n",
    "        FilteredObject = ExtractedObject\n",
    "        pass\n",
    "    \n",
    "    return FilteredObject"
   ]
  },
  {
   "cell_type": "code",
   "execution_count": 9,
   "id": "5977ec5b-1f2e-4218-b9fa-fc2f13d27f3d",
   "metadata": {},
   "outputs": [],
   "source": [
    "def ObjectBlender(S1, FilteredObject, alpha = 0.5):\n",
    "    beta = (1.0 - alpha)\n",
    "\n",
    "    BlendingResult = cv2.addWeighted(FilteredObject, alpha, S1, beta, 0.0)\n",
    "    return BlendingResult"
   ]
  },
  {
   "cell_type": "code",
   "execution_count": 37,
   "id": "1b6d5001-7dc4-44be-a078-9cde77aad18e",
   "metadata": {},
   "outputs": [],
   "source": [
    "def CompareResult(BlendingResult, S2, metric):\n",
    "    \n",
    "    if metric == 1:\n",
    "        # Signal to noise ratio, units: decibals\n",
    "        ErrorValue = cv2.PSNR(S2,BlendingResult)\n",
    "        print(\"PSNR: \", ErrorValue,\"dB\")\n",
    "        pass\n",
    "    elif metric == 2:\n",
    "        # mean structural similarity index over the image, unit: index between 0 & 1\n",
    "        ErrorValue = ssim(S2, BlendingResult, multichannel=True)\n",
    "        print(\"SSIM: \", ErrorValue)\n",
    "        pass\n",
    "    elif metric == 3:\n",
    "        # mean-squared error between two images\n",
    "        ErrorValue = mse(S2, BlendingResult)\n",
    "        print(\"MSE: \", ErrorValue)\n",
    "        pass\n",
    "    else:\n",
    "        metric = ExtractedObject\n",
    "        pass\n",
    "    \n",
    "    return ErrorValue"
   ]
  },
  {
   "cell_type": "markdown",
   "id": "305fbda6-6e8a-45a8-8c08-3f0969651d84",
   "metadata": {},
   "source": [
    "#### Stage 2"
   ]
  },
  {
   "cell_type": "code",
   "execution_count": null,
   "id": "9d96a3a1-256a-4f1b-8db1-cc568153b227",
   "metadata": {},
   "outputs": [],
   "source": [
    "def RemoveGreen(img):\n",
    "    imgNoGreen = None\n",
    "    \n",
    "    return imgNoGreen"
   ]
  },
  {
   "cell_type": "code",
   "execution_count": null,
   "id": "3a2afe8f-ec31-4421-82b5-407c71540a79",
   "metadata": {},
   "outputs": [],
   "source": [
    "def NewBackground(imgNoBg, NewBackground):\n",
    "    imgNewBG = None\n",
    "    \n",
    "    return imgNewBG"
   ]
  },
  {
   "cell_type": "markdown",
   "id": "1a03260e-3e19-4861-8e5e-4010601523cf",
   "metadata": {},
   "source": [
    "## Runner"
   ]
  },
  {
   "cell_type": "markdown",
   "id": "1ebe2dfd-a547-4ee0-8c16-72b3d46fa235",
   "metadata": {},
   "source": [
    "#### Stage 1"
   ]
  },
  {
   "cell_type": "code",
   "execution_count": 11,
   "id": "7ed7e99c-2efb-4d49-852d-72296ed7c0c3",
   "metadata": {},
   "outputs": [],
   "source": [
    "S1 = cv2.imread(\"Part 2 - Multiple Objects/academic_book_no/1_colour.jpeg\", 1)\n",
    "S2 = cv2.imread(\"Part 2 - Multiple Objects/academic_book_no/2_colour.jpeg\", 1)\n",
    "ObjectMask = cv2.imread(\"Part 2 - Multiple Objects/academic_book_no/masks/ac_3_colour_mask_8_mask.png\", 1)"
   ]
  },
  {
   "cell_type": "code",
   "execution_count": 12,
   "id": "4ee95c0b-6c5e-4985-9a73-1013e11eb064",
   "metadata": {},
   "outputs": [],
   "source": [
    "extractedObject = ExtractObject(S2, ObjectMask)\n",
    "showImage(extractedObject, \"Extracted Image\")"
   ]
  },
  {
   "cell_type": "code",
   "execution_count": 13,
   "id": "bbbf2fd6-df27-4b7b-89c5-9912fc8b9576",
   "metadata": {},
   "outputs": [],
   "source": [
    "filteredObject = ApplyFilter(extractedObject, 0)\n",
    "showImage(filteredObject, \"Filtered Image\")"
   ]
  },
  {
   "cell_type": "code",
   "execution_count": 14,
   "id": "f7ceb001-9a3d-4429-9ac7-44b216ce62d5",
   "metadata": {},
   "outputs": [],
   "source": [
    "blendedObject = ObjectBlender(S1, filteredObject)\n",
    "showImage(blendedObject, \"Blended Image\")"
   ]
  },
  {
   "cell_type": "code",
   "execution_count": 38,
   "id": "205eaf09-6af5-4931-be94-6c37feec43d7",
   "metadata": {},
   "outputs": [
    {
     "name": "stdout",
     "output_type": "stream",
     "text": [
      "PSNR:  17.964384118409832 dB\n",
      "SSIM:  0.7263192214834294\n",
      "MSE:  1039.0631644241898\n"
     ]
    }
   ],
   "source": [
    "for metric in range(1,4):\n",
    "    errorValue = CompareResult(blendedObject, S2, metric)"
   ]
  },
  {
   "cell_type": "markdown",
   "id": "9c53d777-f28d-4eb9-b333-cb06d2c72831",
   "metadata": {},
   "source": [
    "#### Stage 2"
   ]
  },
  {
   "cell_type": "code",
   "execution_count": null,
   "id": "d23a6123-fcd3-4ffd-87a4-0ca924f9a9ba",
   "metadata": {},
   "outputs": [],
   "source": []
  }
 ],
 "metadata": {
  "kernelspec": {
   "display_name": "Python 3",
   "language": "python",
   "name": "python3"
  },
  "language_info": {
   "codemirror_mode": {
    "name": "ipython",
    "version": 3
   },
   "file_extension": ".py",
   "mimetype": "text/x-python",
   "name": "python",
   "nbconvert_exporter": "python",
   "pygments_lexer": "ipython3",
   "version": "3.8.8"
  },
  "toc-autonumbering": false,
  "toc-showcode": true,
  "toc-showmarkdowntxt": true,
  "toc-showtags": true
 },
 "nbformat": 4,
 "nbformat_minor": 5
}
