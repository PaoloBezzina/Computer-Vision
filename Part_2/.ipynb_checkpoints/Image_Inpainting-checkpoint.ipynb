{
 "cells": [
  {
   "cell_type": "code",
   "execution_count": 1,
   "id": "8c7c375a-f21f-4ec9-b332-166ba073304f",
   "metadata": {},
   "outputs": [],
   "source": [
    "import cv2\n",
    "import math\n",
    "import numpy as np\n",
    "\n",
    "from skimage.metrics import structural_similarity as ssim\n",
    "from skimage.metrics import mean_squared_error as mse"
   ]
  },
  {
   "cell_type": "markdown",
   "id": "c3cb94ee-d4e2-4b3a-a2dc-ba506036d150",
   "metadata": {},
   "source": [
    "## Auxiliary Functions"
   ]
  },
  {
   "cell_type": "code",
   "execution_count": 2,
   "id": "8f5639fc-d288-470e-8cf4-16e043da66f8",
   "metadata": {},
   "outputs": [],
   "source": [
    "def showImage(image, name):\n",
    "    cv2.imshow(name, image)\n",
    "    cv2.waitKey(0)\n",
    "    cv2.destroyAllWindows()"
   ]
  },
  {
   "cell_type": "code",
   "execution_count": 3,
   "id": "30193cb5-cac8-492d-b2c6-262d8c152b3d",
   "metadata": {},
   "outputs": [],
   "source": [
    "def convImgToBinary(img):\n",
    "    img_gray = cv2.cvtColor(img, cv2.COLOR_BGR2GRAY)\n",
    "    thresh, img_binary = cv2.threshold(img_gray, 127, 255, cv2.THRESH_BINARY + cv2.THRESH_OTSU)\n",
    "    return img_binary"
   ]
  },
  {
   "cell_type": "code",
   "execution_count": 4,
   "id": "7b0addd1-3c2e-4e20-a9d6-f5eb66d34abb",
   "metadata": {},
   "outputs": [],
   "source": [
    "def CompareResult(BlendingResult, S2, metric):\n",
    "    \n",
    "    if metric == 1:\n",
    "        # Signal to noise ratio, units: decibals\n",
    "        ErrorValue = cv2.PSNR(S2,BlendingResult)\n",
    "        print(\"PSNR: \", ErrorValue,\"dB\")\n",
    "        pass\n",
    "    elif metric == 2:\n",
    "        # mean structural similarity index over the image, unit: index between 0 & 1\n",
    "        ErrorValue = ssim(S2, BlendingResult, multichannel=True)\n",
    "        print(\"SSIM: \", ErrorValue)\n",
    "        pass\n",
    "    elif metric == 3:\n",
    "        # mean-squared error between two images\n",
    "        ErrorValue = mse(S2, BlendingResult)\n",
    "        print(\"MSE: \", ErrorValue)\n",
    "        pass\n",
    "    else:\n",
    "        ErrorValue = \"No Metric Specified\"\n",
    "        pass\n",
    "    \n",
    "    return ErrorValue"
   ]
  },
  {
   "cell_type": "markdown",
   "id": "e5c0ede7-ff6a-485e-8598-29859f96f709",
   "metadata": {},
   "source": [
    "## Functions"
   ]
  },
  {
   "cell_type": "code",
   "execution_count": 5,
   "id": "e55b740f-e0d4-4c89-aec4-6ea1b32b2f44",
   "metadata": {},
   "outputs": [],
   "source": [
    "def inpaintTalea(img, mask, inpaintRadius = 25):\n",
    "    inpaintImg = cv2.inpaint(img, mask, inpaintRadius, cv2.INPAINT_TELEA)\n",
    "    return inpaintImg"
   ]
  },
  {
   "cell_type": "code",
   "execution_count": 6,
   "id": "1ebc64fb-8172-42c8-a321-aedeb3f151fa",
   "metadata": {},
   "outputs": [],
   "source": [
    "def inpaintNS(img, mask, inpaintRadius = 25):\n",
    "    inpaintImg = cv2.inpaint(img, mask, inpaintRadius, cv2.INPAINT_NS)\n",
    "    return inpaintImg"
   ]
  },
  {
   "cell_type": "markdown",
   "id": "a630aed3-7124-45ab-8c8f-d091020c04e2",
   "metadata": {},
   "source": [
    "## Runner"
   ]
  },
  {
   "cell_type": "code",
   "execution_count": 7,
   "id": "6cea9744-9819-46c7-8a73-c329feae8e9f",
   "metadata": {},
   "outputs": [],
   "source": [
    "S1 = cv2.imread(\"COTSDataset-master/Part 2 - Multiple Objects/lp_book_no/1_colour.jpeg\", 1)\n",
    "S2 = cv2.imread(\"COTSDataset-master/Part 2 - Multiple Objects/lp_book_no/2_colour.jpeg\", 1)\n",
    "ObjectMask = cv2.imread(\"COTSDataset-master/Part 2 - Multiple Objects/lp_book_no/masks/lpbooks_no_3_colour_mask_2_mask.png\", 1)\n",
    "ObjectMask = convImgToBinary(ObjectMask)"
   ]
  },
  {
   "cell_type": "code",
   "execution_count": 13,
   "id": "1d8f7210-92e3-4209-bb0c-faeeb437773a",
   "metadata": {},
   "outputs": [
    {
     "name": "stdout",
     "output_type": "stream",
     "text": [
      "PSNR:  34.95550254202244 dB\n",
      "SSIM:  0.8896322828636848\n",
      "MSE:  20.77447735821759\n"
     ]
    }
   ],
   "source": [
    "# tista tbiddel inpaintRadius billi zzid prameter\n",
    "# inpaintResultTalea = inpaintTalea(S2, ObjectMask, 500)\n",
    "inpaintResultTalea = inpaintTalea(S2, ObjectMask, 500)\n",
    "showImage(inpaintResultTalea, \"Inpaint Image\")\n",
    "for metric in range(1,4):\n",
    "    errorValue = CompareResult(inpaintResultTalea, S1, metric)"
   ]
  },
  {
   "cell_type": "code",
   "execution_count": 10,
   "id": "eea0ce4f-63dd-4a24-bcd9-98c78d97fb74",
   "metadata": {},
   "outputs": [
    {
     "name": "stdout",
     "output_type": "stream",
     "text": [
      "PSNR:  31.620668159766637 dB\n",
      "SSIM:  0.8853093711840078\n",
      "MSE:  44.77272677951389\n"
     ]
    }
   ],
   "source": [
    "inpaintResultNS = inpaintNS(S2, ObjectMask)\n",
    "showImage(inpaintResultNS, \"Inpaint Image\")\n",
    "for metric in range(1,4):\n",
    "    errorValue = CompareResult(inpaintResultNS, S1, metric)"
   ]
  }
 ],
 "metadata": {
  "kernelspec": {
   "display_name": "Python 3",
   "language": "python",
   "name": "python3"
  },
  "language_info": {
   "codemirror_mode": {
    "name": "ipython",
    "version": 3
   },
   "file_extension": ".py",
   "mimetype": "text/x-python",
   "name": "python",
   "nbconvert_exporter": "python",
   "pygments_lexer": "ipython3",
   "version": "3.8.8"
  }
 },
 "nbformat": 4,
 "nbformat_minor": 5
}
